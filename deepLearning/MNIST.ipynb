{
 "cells": [
  {
   "cell_type": "code",
   "execution_count": 1,
   "metadata": {
    "collapsed": true
   },
   "outputs": [],
   "source": [
    "import numpy as np\n",
    "import matplotlib.pyplot as plt\n",
    "from PIL import Image\n",
    "import random\n",
    "import struct\n",
    "%matplotlib inline"
   ]
  },
  {
   "cell_type": "markdown",
   "metadata": {},
   "source": [
    "## 预处理数据\n",
    "### 以二进制文件形式读入"
   ]
  },
  {
   "cell_type": "code",
   "execution_count": 2,
   "metadata": {
    "collapsed": true
   },
   "outputs": [],
   "source": [
    "with open('train-images.idx3-ubyte','rb') as f:\n",
    "    trainImage = f.read()\n",
    "with open('train-labels.idx1-ubyte','rb') as f:\n",
    "    trainLabel = f.read()\n",
    "with open('t10k-images.idx3-ubyte','rb') as f:\n",
    "    testImage = f.read()\n",
    "with open('t10k-labels.idx1-ubyte','rb') as f:\n",
    "    testLabel = f.read()"
   ]
  },
  {
   "cell_type": "markdown",
   "metadata": {},
   "source": [
    "### 提取图片和标签\n",
    "得到numpy.ndarray表示的数据, shape如下\n",
    "\n",
    "```python\n",
    "trainImage.shape = (60000,28,28)\n",
    "trainLabel.shape = (60000,1)\n",
    "testImage.shape = (10000, 28, 28)\n",
    "testLabel.shape = (10000, 1)\n",
    "```"
   ]
  },
  {
   "cell_type": "code",
   "execution_count": 3,
   "metadata": {},
   "outputs": [
    {
     "name": "stdout",
     "output_type": "stream",
     "text": [
      "trainImage.shape: (60000, 28, 28)\n",
      "trainLabel.shape: (60000, 1)\n",
      "testImage.shape: (10000, 28, 28)\n",
      "testLabel.shape: (10000, 1)\n"
     ]
    }
   ],
   "source": [
    "# API : struct.unpack(fmt,bytes)\n",
    "\n",
    "# bytes -> (int,int,int,int,numpy.ndarray[])\n",
    "# 接受dataSet原始二进制数据, 返回array, shape为(60000,28,28)\n",
    "def getImageFromMNIST(imageBytes):\n",
    "    assert(type(imageBytes) is bytes),'parameter is no bytes'\n",
    "    magicNum, numOfImages = struct.unpack('>2i',imageBytes[:8]) # 读入校验数据(无用处)和图片数量\n",
    "    rows, columns = struct.unpack('>2i',imageBytes[8:16]) # 读入图片行数和列数\n",
    "    imageSize = rows * columns # 行 * 列 = 图片的规模\n",
    "    # 读入所有图片数据, 总共有 图片规模 * 图片数量 个 unsigned byte\n",
    "    imageTuple = struct.unpack('>'+str(imageSize * numOfImages)+'B',imageBytes[16:])\n",
    "    imageArray = np.array(imageTuple) # 数据类型为默认的int\n",
    "    return imageArray.reshape(numOfImages,rows,columns)\n",
    "\n",
    "def getLabelFromMNIST(labelBytes):\n",
    "    assert(type(labelBytes) is bytes),'parameter is no bytes'\n",
    "    magicNum, numOfLabels = struct.unpack('>2i',labelBytes[:8]) # 读入校验数据(无用处)和标签数量\n",
    "    # 每个标签大小为unsigned byte, 一次读入所有标签\n",
    "    labelSize = 1 * numOfLabels\n",
    "    labelTuple = struct.unpack('>'+str(labelSize)+'B',labelBytes[8:])\n",
    "    labelArray = np.array(labelTuple) \n",
    "    return labelArray.reshape(labelSize,1)\n",
    "\n",
    "trainImage = getImageFromMNIST(trainImage)\n",
    "trainLabel = getLabelFromMNIST(trainLabel)\n",
    "testImage = getImageFromMNIST(testImage)\n",
    "testLabel = getLabelFromMNIST(testLabel)\n",
    "\n",
    "print('trainImage.shape:',trainImage.shape)\n",
    "print('trainLabel.shape:',trainLabel.shape)\n",
    "print('testImage.shape:',testImage.shape)\n",
    "print('testLabel.shape:',testLabel.shape)"
   ]
  },
  {
   "cell_type": "markdown",
   "metadata": {},
   "source": [
    "### 数据显示测试"
   ]
  },
  {
   "cell_type": "code",
   "execution_count": 4,
   "metadata": {},
   "outputs": [
    {
     "data": {
      "text/plain": [
       "Text(0.5,1,'[5]')"
      ]
     },
     "execution_count": 4,
     "metadata": {},
     "output_type": "execute_result"
    },
    {
     "data": {
      "image/png": "[encoded data removed]",
      "text/plain": [
       "<matplotlib.figure.Figure at 0x1c9fe906978>"
      ]
     },
     "metadata": {},
     "output_type": "display_data"
    }
   ],
   "source": [
    "# index = 0 # 第 几 张图片\n",
    "# im = Image.fromarray(trainImage[index,:]) # array -> Image, 如果数据类型为float, 会报错\n",
    "# plt.imshow(im) # 显示图片\n",
    "# plt.title(str(trainLabel[index])) # 打上标题"
   ]
  },
  {
   "cell_type": "markdown",
   "metadata": {},
   "source": [
    "### 归一化 和 创建 标签矩阵\n",
    "$28 \\times 28 = 784$\n",
    "\n",
    "处理后,\n",
    "```python\n",
    "trainImage.shape = (784, 60000) # (60000, 28, 28) -> (784, 60000)\n",
    "trainLabel.shape = (10, 60000)  # (60000,1) -> (10, 60000)\n",
    "testImage.shape = (784, 10000)  # (10000, 28, 28) -> (784, 10000)\n",
    "testLabel.shape = (10, 10000)   # (10000, 1) -> (10, 10000)\n",
    "```\n",
    "\n",
    "数据含义\n",
    "```python\n",
    "trainImage[:,i]会得到shape = (784,) 的一列数据, 代表一张图片\n",
    "testLabel[:,i]会得到shape = (10,) 的一列数据, 代表一个标签\n",
    "```"
   ]
  },
  {
   "cell_type": "code",
   "execution_count": 5,
   "metadata": {},
   "outputs": [
    {
     "name": "stdout",
     "output_type": "stream",
     "text": [
      "trainImage.shape: (784, 60000)\n",
      "trainLabel.shape: (10, 60000)\n",
      "testImage.shape: (784, 10000)\n",
      "testLabel.shape: (10, 10000)\n"
     ]
    }
   ],
   "source": [
    "# (number, 28, 28) -> (784, number)\n",
    "def changeImage(image):\n",
    "    image = image.reshape(-1,28*28)\n",
    "    image = image.T # 转置, 让图片数据变为列表示\n",
    "    image = image.astype(np.float16) # 重置数据类型为numpy.float16\n",
    "    return image / 255.0 # 归一化, 让值落在[0,1]上, 方便训练\n",
    "\n",
    "# (number, 1) -> (10, number)\n",
    "def changeLabel(label):\n",
    "    assert(label.shape[1] == 1)\n",
    "    column = np.arange(10) # get 0~9, shape = (10,)\n",
    "    column = column.reshape(10,1) # to column\n",
    "    return label.T == column # use broadcasting to generate True or False label\n",
    "    \n",
    "trainImage = changeImage(trainImage)\n",
    "trainLabel = changeLabel(trainLabel)\n",
    "testImage = changeImage(testImage)\n",
    "testLabel = changeLabel(testLabel)\n",
    "\n",
    "print('trainImage.shape:',trainImage.shape)\n",
    "print('trainLabel.shape:',trainLabel.shape)\n",
    "print('testImage.shape:',testImage.shape)\n",
    "print('testLabel.shape:',testLabel.shape)"
   ]
  },
  {
   "cell_type": "markdown",
   "metadata": {
    "collapsed": true
   },
   "source": [
    "### 测试归一化是否正确\n"
   ]
  },
  {
   "cell_type": "code",
   "execution_count": 14,
   "metadata": {},
   "outputs": [
    {
     "name": "stdout",
     "output_type": "stream",
     "text": [
      "[False False False False False  True False False False False]\n"
     ]
    },
    {
     "data": {
      "image/png": "[encoded data removed]",
      "text/plain": [
       "<matplotlib.figure.Figure at 0x1c980174518>"
      ]
     },
     "metadata": {},
     "output_type": "display_data"
    }
   ],
   "source": [
    "# oneImage = trainImage[:,0]\n",
    "# oneImage = (oneImage * 255).astype(int).reshape(28,28)\n",
    "# oneImage = Image.fromarray(oneImage)\n",
    "# plt.imshow(oneImage)\n",
    "# print(trainLabel[:,0])"
   ]
  },
  {
   "cell_type": "markdown",
   "metadata": {},
   "source": [
    "## 开始处理\n",
    "### 载入神经网络\n",
    "#### import"
   ]
  },
  {
   "cell_type": "code",
   "execution_count": 15,
   "metadata": {},
   "outputs": [
    {
     "name": "stdout",
     "output_type": "stream",
     "text": [
      "my Neural Network import succeed\n"
     ]
    }
   ],
   "source": [
    "import os\n",
    "import importlib\n",
    "# 如果模块NN在路径youryourModulePath\n",
    "os.sys.path.append('C:\\\\Users\\\\lambda\\\\Desktop\\\\temp\\\\python\\\\deepLearning') # 参数为字符串str\n",
    "import NN"
   ]
  },
  {
   "cell_type": "markdown",
   "metadata": {},
   "source": [
    "#### 初始化网络\n",
    "\n",
    "$$\n",
    "Lost = - \\sum _{i=0} ^{9} y_i \\ln a_i\n",
    "$$"
   ]
  },
  {
   "cell_type": "code",
   "execution_count": 177,
   "metadata": {},
   "outputs": [
    {
     "name": "stdout",
     "output_type": "stream",
     "text": [
      "layers info: [784, 128, 128, 128, 128, 10]\n",
      "my Neural Network import succeed\n",
      "Wall time: 0 ns\n"
     ]
    }
   ],
   "source": [
    "%%time\n",
    "np.random.seed(1) # 改变随机数种子, 方便复现bug\n",
    "data = {\n",
    "'trainX':trainImage,\n",
    "'trainY':trainLabel\n",
    "}\n",
    "\n",
    "layers = [784,128,128,128,128,10] # 784代表输入数据规模, layers[i] 代表第 i 层网络的节点数\n",
    "print('layers info:',layers)\n",
    "\n",
    "relu = lambda z:np.maximum(0,z) # Relu 激活函数\n",
    "relu_deriv = lambda z,a:np.where(z > 0,1.0,0.01) # Relu 激活函数的导数\n",
    "\n",
    "def lostFunc(A,Y):\n",
    "    assert(A.shape == Y.shape),'A.shape != Y.shape'\n",
    "    # A and Y are matrix, but we just want to operation on column, so use axis = 0\n",
    "    ylna = np.multiply(Y,np.log(A+1e-10)) # add 1e-10 to forbidden np.log(0)\n",
    "    return -np.sum(ylna,axis = 0,keepdims=True) # remember add minus symbol \"-\"\n",
    "    \n",
    "def softmax(Z): # Z is a column vector, but we need to handle when Z is a matrix, use axis = 0\n",
    "    maxNumber = np.max(Z,axis = 0,keepdims=True)\n",
    "    assert(Z.shape[1] == maxNumber.shape[1])\n",
    "    Z -= maxNumber\n",
    "    Zexp = np.exp(Z)\n",
    "    return Zexp / np.sum(Zexp,axis = 0,keepdims=True)\n",
    "\n",
    "def softmax_deriv(Z,A,Y): # softmax 的导数\n",
    "    assert(A.shape == Y.shape),'A.shape is not same as Y.shape'\n",
    "    return A - Y\n",
    "\n",
    "\n",
    "\n",
    "def getFunction(layers): # 初始化function\n",
    "    function = {\n",
    "                'activation':{},\n",
    "                'derivative':{},\n",
    "                'lostFunction':lostFunc, # lambda a,y:np.sum(np.multiply(-y,np.log(a)),axis = 0), # (AL,Y) -> Lost(AL,Y)\n",
    "                'predictFunction':lambda A:(A,A>=np.max(A,axis = 0)), # (A,preA)\n",
    "                'accuracyFunction':lambda A,Y:1.0/Y.shape[1] * np.sum((np.sum(A==Y,axis = 0,keepdims=True) == 10))\n",
    "                }\n",
    "    L = len(layers) - 1\n",
    "    for i in range(1,L):\n",
    "        function['activation'][i] = relu\n",
    "        function['derivative'][i] = relu_deriv\n",
    "    function['activation'][L] = softmax\n",
    "    function['derivative'][L] = lambda Z,A,Y:softmax_deriv(Z,A,Y)\n",
    "    return function\n",
    "\n",
    "function = getFunction(layers)\n",
    "importlib.reload(NN) # 重新import模块, 便于修改后重新import\n",
    "myNN = NN.NN(data,layers,function) # 初始化网络!!!!!!"
   ]
  },
  {
   "cell_type": "markdown",
   "metadata": {},
   "source": [
    "#### 开始训练"
   ]
  },
  {
   "cell_type": "code",
   "execution_count": 178,
   "metadata": {},
   "outputs": [
    {
     "data": {
      "image/png": "[encoded data removed]",
      "text/plain": [
       "<matplotlib.figure.Figure at 0x1c987a0aa90>"
      ]
     },
     "metadata": {},
     "output_type": "display_data"
    },
    {
     "name": "stdout",
     "output_type": "stream",
     "text": [
      "train accuracy: 0.976416666667\n",
      "test 1~10000 accuracy: 0.9663\n",
      "test 1~5000 accuracy: 0.9534\n",
      "test 5000~10000 accuracy: 0.9792\n",
      "Wall time: 17.4 s\n"
     ]
    }
   ],
   "source": [
    "%%time\n",
    "costs = myNN.miniBatchRandom(learningRate=0.5,batchSize=128,batchTimes=2000,getCost=True)\n",
    "plt.plot(costs)\n",
    "plt.title('costs')\n",
    "plt.show()\n",
    "trainPre,trainPreBool = myNN.predict(X=trainImage)\n",
    "print('train accuracy:',myNN.accuracy(trainPreBool,trainLabel))\n",
    "\n",
    "testPre,testPreBool = myNN.predict(X=testImage)\n",
    "print('test 1~10000 accuracy:',myNN.accuracy(testPreBool,testLabel))\n",
    "\n",
    "testPre,testPreBool = myNN.predict(X=testImage[:,:5000])\n",
    "print('test 1~5000 accuracy:',myNN.accuracy(testPreBool,testLabel[:,:5000])) # 前5000个样本的正确率\n",
    "\n",
    "testPre,testPreBool = myNN.predict(X=testImage[:,5000:])\n",
    "print('test 5000~10000 accuracy:',myNN.accuracy(testPreBool,testLabel[:,5000:])) # 后5000个样本的正确率"
   ]
  },
  {
   "cell_type": "markdown",
   "metadata": {},
   "source": [
    "## 测试自己的图片"
   ]
  },
  {
   "cell_type": "code",
   "execution_count": 183,
   "metadata": {},
   "outputs": [
    {
     "data": {
      "image/png": "[encoded data removed]",
      "text/plain": [
       "<matplotlib.figure.Figure at 0x1c98dba39e8>"
      ]
     },
     "metadata": {},
     "output_type": "display_data"
    },
    {
     "data": {
      "image/png": "[encoded data removed]",
      "text/plain": [
       "<matplotlib.figure.Figure at 0x1c98d9d4630>"
      ]
     },
     "metadata": {},
     "output_type": "display_data"
    }
   ],
   "source": [
    "myNumber = Image.open('number.bmp') # 打开图片,注意图片本身的格式, 如果是256色模式, 就不用将RGB相加了\n",
    "\n",
    "plt.subplot(121)\n",
    "plt.imshow(myNumber) # 显示图片\n",
    "plt.title('origin picture')\n",
    "myNumber = myNumber.resize(size=(28,28)) # 重置大小, 宽度为28, 高度为28\n",
    "\n",
    "plt.subplot(122)\n",
    "plt.imshow(myNumber) # 显示resize后的图片\n",
    "plt.title('after resize')\n",
    "plt.show()\n",
    "\n",
    "\n",
    "myNumberArr = np.array(myNumber) # 从图片获取 array\n",
    "# print(myNumberArr.shape)\n",
    "\n",
    "# 归一化后才可以predict\n",
    "myNumberArr = (myNumberArr > 100).astype(float)\n",
    "myNumberArr = myNumberArr.reshape(28*28,1)\n",
    "myPre,myPreBool = myNN.predict(X=myNumberArr)\n",
    "\n",
    "# print(myPreBool.T)\n",
    "# plt.figure()\n",
    "probablity = (softmax(myPre).T.reshape(10,) * 100).tolist()\n",
    "# print(probablity)\n",
    "preNumber = probablity.index(max(probablity))\n",
    "plt.title(str(preNumber)+' : '+str(round(max(probablity),2))+'%')\n",
    "plt.bar([i for i in range(10)],probablity,[0.5 for i in range(10)], \\\n",
    "        align = 'center')\n",
    "plt.show()"
   ]
  },
  {
   "cell_type": "code",
   "execution_count": null,
   "metadata": {
    "collapsed": true
   },
   "outputs": [],
   "source": []
  }
 ],
 "metadata": {
  "kernelspec": {
   "display_name": "Python 3",
   "language": "python",
   "name": "python3"
  },
  "language_info": {
   "codemirror_mode": {
    "name": "ipython",
    "version": 3
   },
   "file_extension": ".py",
   "mimetype": "text/x-python",
   "name": "python",
   "nbconvert_exporter": "python",
   "pygments_lexer": "ipython3",
   "version": "3.6.3"
  }
 },
 "nbformat": 4,
 "nbformat_minor": 2
}
